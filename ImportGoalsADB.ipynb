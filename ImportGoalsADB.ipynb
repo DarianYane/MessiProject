{
 "cells": [
  {
   "cell_type": "code",
   "execution_count": 0,
   "metadata": {
    "application/vnd.databricks.v1+cell": {
     "cellMetadata": {
      "byteLimit": 2048000,
      "rowLimit": 10000
     },
     "inputWidgets": {},
     "nuid": "9cf5e074-8916-4dd2-a3d7-d53e16552b8b",
     "showTitle": false,
     "title": ""
    }
   },
   "outputs": [
    {
     "output_type": "display_data",
     "data": {
      "text/html": [
       "<style scoped>\n",
       "  .ansiout {\n",
       "    display: block;\n",
       "    unicode-bidi: embed;\n",
       "    white-space: pre-wrap;\n",
       "    word-wrap: break-word;\n",
       "    word-break: break-all;\n",
       "    font-family: \"Menlo\", \"Monaco\", \"Consolas\", \"Ubuntu Mono\", \"Source Code Pro\", monospace;\n",
       "    font-size: 13px;\n",
       "    color: #555;\n",
       "    margin-left: 4px;\n",
       "    line-height: 19px;\n",
       "  }\n",
       "</style>\n",
       "<div class=\"ansiout\">Python interpreter will be restarted.\n",
       "Collecting schedule\n",
       "  Downloading schedule-1.2.1-py2.py3-none-any.whl (11 kB)\n",
       "Installing collected packages: schedule\n",
       "Successfully installed schedule-1.2.1\n",
       "Python interpreter will be restarted.\n",
       "Python interpreter will be restarted.\n",
       "Collecting lxml\n",
       "  Downloading lxml-5.1.0-cp38-cp38-manylinux_2_17_x86_64.manylinux2014_x86_64.whl (8.0 MB)\n",
       "Installing collected packages: lxml\n",
       "Successfully installed lxml-5.1.0\n",
       "Python interpreter will be restarted.\n",
       "Python interpreter will be restarted.\n",
       "Collecting openpyxl\n",
       "  Downloading openpyxl-3.1.2-py2.py3-none-any.whl (249 kB)\n",
       "Collecting et-xmlfile\n",
       "  Downloading et_xmlfile-1.1.0-py3-none-any.whl (4.7 kB)\n",
       "Installing collected packages: et-xmlfile, openpyxl\n",
       "Successfully installed et-xmlfile-1.1.0 openpyxl-3.1.2\n",
       "Python interpreter will be restarted.\n",
       "</div>"
      ]
     },
     "metadata": {
      "application/vnd.databricks.v1+output": {
       "addedWidgets": {},
       "arguments": {},
       "data": "<div class=\"ansiout\">Python interpreter will be restarted.\nCollecting schedule\n  Downloading schedule-1.2.1-py2.py3-none-any.whl (11 kB)\nInstalling collected packages: schedule\nSuccessfully installed schedule-1.2.1\nPython interpreter will be restarted.\nPython interpreter will be restarted.\nCollecting lxml\n  Downloading lxml-5.1.0-cp38-cp38-manylinux_2_17_x86_64.manylinux2014_x86_64.whl (8.0 MB)\nInstalling collected packages: lxml\nSuccessfully installed lxml-5.1.0\nPython interpreter will be restarted.\nPython interpreter will be restarted.\nCollecting openpyxl\n  Downloading openpyxl-3.1.2-py2.py3-none-any.whl (249 kB)\nCollecting et-xmlfile\n  Downloading et_xmlfile-1.1.0-py3-none-any.whl (4.7 kB)\nInstalling collected packages: et-xmlfile, openpyxl\nSuccessfully installed et-xmlfile-1.1.0 openpyxl-3.1.2\nPython interpreter will be restarted.\n</div>",
       "datasetInfos": [],
       "metadata": {},
       "removedWidgets": [],
       "type": "html"
      }
     },
     "output_type": "display_data"
    }
   ],
   "source": [
    "%pip install schedule\n",
    "%pip install lxml\n",
    "%pip install openpyxl"
   ]
  },
  {
   "cell_type": "code",
   "execution_count": 0,
   "metadata": {
    "application/vnd.databricks.v1+cell": {
     "cellMetadata": {
      "byteLimit": 2048000,
      "rowLimit": 10000
     },
     "inputWidgets": {},
     "nuid": "733e22a7-c865-45f6-8434-785742e242c6",
     "showTitle": false,
     "title": ""
    }
   },
   "outputs": [
    {
     "output_type": "display_data",
     "data": {
      "text/html": [
       "<style scoped>\n",
       "  .ansiout {\n",
       "    display: block;\n",
       "    unicode-bidi: embed;\n",
       "    white-space: pre-wrap;\n",
       "    word-wrap: break-word;\n",
       "    word-break: break-all;\n",
       "    font-family: \"Menlo\", \"Monaco\", \"Consolas\", \"Ubuntu Mono\", \"Source Code Pro\", monospace;\n",
       "    font-size: 13px;\n",
       "    color: #555;\n",
       "    margin-left: 4px;\n",
       "    line-height: 19px;\n",
       "  }\n",
       "</style>\n",
       "<div class=\"ansiout\">     N_of_Goal       Date  ... Minute_adjusted Goal_time_period\n",
       "0          821 2023-10-17  ...              42       First half\n",
       "1          820 2023-10-17  ...              32       First half\n",
       "2          819 2023-09-07  ...              78      Second half\n",
       "3          818 2023-08-26  ...              89      Second half\n",
       "4          817 2023-08-20  ...              23       First half\n",
       "..         ...        ...  ...             ...              ...\n",
       "816          5 2006-01-22  ...              81      Second half\n",
       "817          4 2006-01-15  ...              51      Second half\n",
       "818          3 2005-11-27  ...              52      Second half\n",
       "819          2 2005-11-02  ...              34       First half\n",
       "820          1 2005-05-01  ...              90      Second half\n",
       "\n",
       "[821 rows x 22 columns]\n",
       "</div>"
      ]
     },
     "metadata": {
      "application/vnd.databricks.v1+output": {
       "addedWidgets": {},
       "arguments": {},
       "data": "<div class=\"ansiout\">     N_of_Goal       Date  ... Minute_adjusted Goal_time_period\n0          821 2023-10-17  ...              42       First half\n1          820 2023-10-17  ...              32       First half\n2          819 2023-09-07  ...              78      Second half\n3          818 2023-08-26  ...              89      Second half\n4          817 2023-08-20  ...              23       First half\n..         ...        ...  ...             ...              ...\n816          5 2006-01-22  ...              81      Second half\n817          4 2006-01-15  ...              51      Second half\n818          3 2005-11-27  ...              52      Second half\n819          2 2005-11-02  ...              34       First half\n820          1 2005-05-01  ...              90      Second half\n\n[821 rows x 22 columns]\n</div>",
       "datasetInfos": [],
       "metadata": {},
       "removedWidgets": [],
       "type": "html"
      }
     },
     "output_type": "display_data"
    }
   ],
   "source": [
    "import pandas as pd\n",
    "\n",
    "# Para actualizar el archivo CSV diariamente se utiliza el módulo schedule de Python para programar la ejecución del script cada día.\n",
    "import schedule\n",
    "import time\n",
    "\n",
    "from datetime import datetime\n",
    "\n",
    "# Cumpleaños de Leo\n",
    "leo_birthday = datetime(1987, 6, 24)\n",
    "\n",
    "# Término de contratos\n",
    "barcelona_exit = datetime(2021, 5, 30)\n",
    "psg_exit = datetime(2023, 6, 30)\n",
    "\n",
    "\n",
    "# Definir df como una variable global\n",
    "df = None\n",
    "\n",
    "def update_csv():\n",
    "    global df  # Definir df como una variable global\n",
    "    # Obtenemos la tabla de ejemplo de una página web\n",
    "    url = \"http://messi.starplayerstats.com/en/goals/0/0/all/0/0/0/t/all/all/0/0/1\"\n",
    "    # Para obtener la primera tabla\n",
    "    goals_table = pd.read_html(url)[0]\n",
    "\n",
    "    # Estableceremos el Dataframe donde guardaremos la tabla\n",
    "    df = pd.DataFrame(goals_table)\n",
    "\n",
    "    # Elimino la última columna (son las flechas que me llevan al detalle del partido)\n",
    "    df = df.drop(columns=[\"Unnamed: 11\"])\n",
    "\n",
    "    # Renombro las columnas\n",
    "    df = df.set_axis(\n",
    "        [\n",
    "            \"N_of_Goal\",\n",
    "            \"Date\",\n",
    "            \"Competition\",\n",
    "            \"Home_team\",\n",
    "            \"Result\",\n",
    "            \"Away_team\",\n",
    "            \"Minute\",\n",
    "            \"Partial_Score\",\n",
    "            \"What\",\n",
    "            \"How\",\n",
    "            \"Jersey\",\n",
    "        ],\n",
    "        axis=1,\n",
    "    )\n",
    "    df[\"N_of_Goal\"] = df[\"N_of_Goal\"].astype(\"int\")\n",
    "    df[\"Jersey\"] = df[\"Jersey\"].astype(\"int\")\n",
    "    # df[\"Date\"] = df[\"Date\"].astype(\"datetime64[us]\")\n",
    "    df[\"Date\"] = pd.to_datetime(df[\"Date\"], format=\"%d-%m-%Y\")\n",
    "\n",
    "\n",
    "    # Dividir \"Competition\" en 2 columnas: una para la abreviación, y otra para el nombre de la competición. Esto me permite identificar los amistosos por su sigla, y todo lo demás como partidos oficiales\n",
    "    def split_competition(val):\n",
    "        return val[:3], val[4:]\n",
    "\n",
    "    # Aplicar la función personalizada a la columna \"Competition\"\n",
    "    df[[\"Competition_abb\", \"Competition_name\"]] = (\n",
    "        df[\"Competition\"].apply(split_competition).apply(pd.Series)\n",
    "    )\n",
    "    # Eliminar la columna \"column_name\"\n",
    "    df = df.drop(\"Competition\", axis=1)\n",
    "\n",
    "\n",
    "    # Dividir los goles del resultado en 2 columnas\n",
    "    df[[\"Goals_H\", \"Goals_A\"]] = df[\"Result\"].str.split(\"-\", expand=True)\n",
    "    # Convertir los \"result\" en int\n",
    "    df[\"Goals_H\"] = df[\"Goals_H\"].astype(\"int\")\n",
    "    df[\"Goals_A\"] = df[\"Goals_A\"].astype(\"int\")\n",
    "    # Eliminar la columna \"column_name\"\n",
    "    df = df.drop(\"Result\", axis=1)\n",
    "\n",
    "    # Crear una nueva columna \"Result\" que contenga los valores \"Home\", \"Away\" o \"Draw\" dependiendo de los valores de \"Goals_H\" y \"Goals_A\"\n",
    "    df[\"Result\"] = df.apply(\n",
    "        lambda number: \"Home\"\n",
    "        if number[\"Goals_H\"] > number[\"Goals_A\"]\n",
    "        else \"Away\"\n",
    "        if number[\"Goals_H\"] < number[\"Goals_A\"]\n",
    "        else \"Draw\",\n",
    "        axis=1,\n",
    "    )\n",
    "\n",
    "\n",
    "    # Calcular la edad de Leo en cada gol\n",
    "    from dateutil.relativedelta import relativedelta\n",
    "\n",
    "    df[\"Leo_age\"] = df[\"Date\"].apply(\n",
    "        lambda goal: relativedelta(goal.date(), leo_birthday.date()).years\n",
    "    )\n",
    "\n",
    "\n",
    "    # Identificar en qué equipo estaba jugando Leo cuando marcó el gol\n",
    "    df[\"Leo_team\"] = df.apply(\n",
    "        lambda goal: \"Argentina\"\n",
    "        if goal[\"Home_team\"] == \"Argentina\"\n",
    "        else \"Argentina\"\n",
    "        if goal[\"Away_team\"] == \"Argentina\"\n",
    "        else \"FC Barcelona\"\n",
    "        if goal[\"Date\"] < barcelona_exit\n",
    "        else \"Paris Saint-Germain\"\n",
    "        if goal[\"Date\"] < psg_exit\n",
    "        else \"Inter Miami CF\",\n",
    "        axis=1,\n",
    "    )\n",
    "\n",
    "\n",
    "    # Identificar a qué equipo le anotó el gol\n",
    "    df[\"Scored_team\"] = df.apply(\n",
    "        lambda goal: goal[\"Away_team\"]\n",
    "        if goal[\"Home_team\"] == goal[\"Leo_team\"]\n",
    "        else goal[\"Home_team\"],\n",
    "        axis=1,\n",
    "    )\n",
    "\n",
    "\n",
    "    # Identificar si estaba jugando de local o visitante\n",
    "    df[\"Home_or_Away\"] = df.apply(\n",
    "        lambda goal: \"Home\" if goal[\"Home_team\"] == goal[\"Leo_team\"] else \"Away\", axis=1\n",
    "    )\n",
    "\n",
    "\n",
    "    # Identificar si Leo ganó, empató o perdió\n",
    "    df[\"Leo_result\"] = df.apply(\n",
    "        lambda goal: \"Tied\"\n",
    "        if goal[\"Result\"] == \"Draw\"\n",
    "        else \"Won\"\n",
    "        if goal[\"Result\"] == goal[\"Home_or_Away\"]\n",
    "        else \"Lost\",\n",
    "        axis=1,\n",
    "    )\n",
    "\n",
    "\n",
    "    # Dividir los goles del resultado parcial en 2 columnas\n",
    "    df[[\"Partial_Score_H\", \"Partial_Score_A\"]] = df[\"Partial_Score\"].str.split(\n",
    "        \"-\", expand=True\n",
    "    )\n",
    "    # Convertir los \"result\" en int\n",
    "    df[\"Partial_Score_H\"] = df[\"Partial_Score_H\"].astype(\"int\")\n",
    "    df[\"Partial_Score_A\"] = df[\"Partial_Score_A\"].astype(\"int\")\n",
    "    # Eliminar la columna \"column_name\"\n",
    "    df = df.drop(\"Partial_Score\", axis=1)\n",
    "\n",
    "\n",
    "    # Agregar una nueva columna \"Minute_adjusted\" al DataFrame df\n",
    "    df['Minute_adjusted'] = df['Minute']\n",
    "\n",
    "    # Definir una función para ajustar los minutos en caso de tiempo adicional\n",
    "    def adjust_minute(minute):\n",
    "        if '+' in minute:\n",
    "            # Dividir el tiempo adicional en dos partes y sumarlas\n",
    "            parts = minute.split('+')\n",
    "            adjusted_minute = sum(int(part) for part in parts)\n",
    "            return adjusted_minute\n",
    "        else:\n",
    "            # Mantener el mismo valor si no hay tiempo adicional\n",
    "            return int(minute)\n",
    "\n",
    "    # Aplicar la función adjust_minute a la columna \"Minute_adjusted\"\n",
    "    df['Minute_adjusted'] = df['Minute_adjusted'].apply(adjust_minute)\n",
    "\n",
    "    # Convertir la columna \"Goal_time_period\" al tipo de datos texto\n",
    "    df['Minute_adjusted'] = df['Minute_adjusted'].astype('int')\n",
    "\n",
    "\n",
    "    # Agregar una nueva columna \"Goal_time_period\" al DataFrame df\n",
    "    df['Goal_time_period'] = df['Minute']\n",
    "\n",
    "    # Definir una función para determinar el período de tiempo del gol\n",
    "    def determine_time_period(minute):\n",
    "        if '+' in minute:\n",
    "            return 'Additional time'\n",
    "        elif int(minute) <= 45:\n",
    "            return 'First half'\n",
    "        elif int(minute) <= 90:\n",
    "            return 'Second half'\n",
    "        else:\n",
    "            return 'Additional time'\n",
    "\n",
    "    # Aplicar la función determine_time_period a la columna \"Goal_time_period\"\n",
    "    df['Goal_time_period'] = df['Goal_time_period'].apply(determine_time_period)\n",
    "\n",
    "    # Convertir la columna \"Goal_time_period\" al tipo de datos texto\n",
    "    df['Goal_time_period'] = df['Goal_time_period'].astype('str')\n",
    "\n",
    "\n",
    "    # Guardar el DataFrame en un archivo CSV utilizando la función df.to_csv(), y en un archivo XLSX utilizando la función df.to_excel().\n",
    "    df.to_csv(\"messi_goals.csv\", index=False)\n",
    "    df.to_excel(\"messi_goals.xlsx\", sheet_name=\"Goals\")\n",
    "    return df\n",
    "\n",
    "\n",
    "# Actualizar df\n",
    "df = update_csv()\n",
    "\n",
    "print(df)"
   ]
  },
  {
   "cell_type": "code",
   "execution_count": 0,
   "metadata": {
    "application/vnd.databricks.v1+cell": {
     "cellMetadata": {
      "byteLimit": 2048000,
      "rowLimit": 10000
     },
     "inputWidgets": {},
     "nuid": "41861389-d5e0-4295-b7cd-e4feedbe75ea",
     "showTitle": true,
     "title": "Borrar el csv"
    }
   },
   "outputs": [
    {
     "output_type": "display_data",
     "data": {
      "text/html": [
       "<style scoped>\n",
       "  .ansiout {\n",
       "    display: block;\n",
       "    unicode-bidi: embed;\n",
       "    white-space: pre-wrap;\n",
       "    word-wrap: break-word;\n",
       "    word-break: break-all;\n",
       "    font-family: \"Menlo\", \"Monaco\", \"Consolas\", \"Ubuntu Mono\", \"Source Code Pro\", monospace;\n",
       "    font-size: 13px;\n",
       "    color: #555;\n",
       "    margin-left: 4px;\n",
       "    line-height: 19px;\n",
       "  }\n",
       "</style>\n",
       "<div class=\"ansiout\">Out[2]: &#39;\\nimport os\\n\\n# Ruta completa del archivo CSV\\ncsv_file_path = &#34;messi_goals.csv&#34;\\n\\n# Verificar si el archivo existe antes de intentar borrarlo\\nif os.path.exists(csv_file_path):\\n    # Borrar el archivo CSV\\n    os.remove(csv_file_path)\\n    print(&#34;Archivo CSV borrado correctamente.&#34;)\\nelse:\\n    print(&#34;El archivo CSV no existe en el directorio actual.&#34;)\\n&#39;</div>"
      ]
     },
     "metadata": {
      "application/vnd.databricks.v1+output": {
       "addedWidgets": {},
       "arguments": {},
       "data": "<div class=\"ansiout\">Out[2]: &#39;\\nimport os\\n\\n# Ruta completa del archivo CSV\\ncsv_file_path = &#34;messi_goals.csv&#34;\\n\\n# Verificar si el archivo existe antes de intentar borrarlo\\nif os.path.exists(csv_file_path):\\n    # Borrar el archivo CSV\\n    os.remove(csv_file_path)\\n    print(&#34;Archivo CSV borrado correctamente.&#34;)\\nelse:\\n    print(&#34;El archivo CSV no existe en el directorio actual.&#34;)\\n&#39;</div>",
       "datasetInfos": [],
       "metadata": {},
       "removedWidgets": [],
       "type": "html"
      }
     },
     "output_type": "display_data"
    }
   ],
   "source": [
    "\"\"\"\n",
    "import os\n",
    "\n",
    "# Ruta completa del archivo CSV\n",
    "csv_file_path = \"messi_goals.csv\"\n",
    "\n",
    "# Verificar si el archivo existe antes de intentar borrarlo\n",
    "if os.path.exists(csv_file_path):\n",
    "    # Borrar el archivo CSV\n",
    "    os.remove(csv_file_path)\n",
    "    print(\"Archivo CSV borrado correctamente.\")\n",
    "else:\n",
    "    print(\"El archivo CSV no existe en el directorio actual.\")\n",
    "\"\"\""
   ]
  },
  {
   "cell_type": "code",
   "execution_count": 0,
   "metadata": {
    "application/vnd.databricks.v1+cell": {
     "cellMetadata": {
      "byteLimit": 2048000,
      "rowLimit": 10000
     },
     "inputWidgets": {},
     "nuid": "a102b68f-ec79-4c24-819d-4cb8c00cca3d",
     "showTitle": true,
     "title": "Borrar el xlsx"
    }
   },
   "outputs": [
    {
     "output_type": "display_data",
     "data": {
      "text/html": [
       "<style scoped>\n",
       "  .ansiout {\n",
       "    display: block;\n",
       "    unicode-bidi: embed;\n",
       "    white-space: pre-wrap;\n",
       "    word-wrap: break-word;\n",
       "    word-break: break-all;\n",
       "    font-family: \"Menlo\", \"Monaco\", \"Consolas\", \"Ubuntu Mono\", \"Source Code Pro\", monospace;\n",
       "    font-size: 13px;\n",
       "    color: #555;\n",
       "    margin-left: 4px;\n",
       "    line-height: 19px;\n",
       "  }\n",
       "</style>\n",
       "<div class=\"ansiout\">Out[3]: &#39;\\nimport os\\n\\n# Ruta completa del archivo CSV\\nxlsx_file_path = &#34;messi_goals.xlsx&#34;\\n\\n# Verificar si el archivo existe antes de intentar borrarlo\\nif os.path.exists(xlsx_file_path):\\n    # Borrar el archivo CSV\\n    os.remove(xlsx_file_path)\\n    print(&#34;Archivo XLSX borrado correctamente.&#34;)\\nelse:\\n    print(&#34;El archivo XLSX no existe en el directorio actual.&#34;)\\n&#39;</div>"
      ]
     },
     "metadata": {
      "application/vnd.databricks.v1+output": {
       "addedWidgets": {},
       "arguments": {},
       "data": "<div class=\"ansiout\">Out[3]: &#39;\\nimport os\\n\\n# Ruta completa del archivo CSV\\nxlsx_file_path = &#34;messi_goals.xlsx&#34;\\n\\n# Verificar si el archivo existe antes de intentar borrarlo\\nif os.path.exists(xlsx_file_path):\\n    # Borrar el archivo CSV\\n    os.remove(xlsx_file_path)\\n    print(&#34;Archivo XLSX borrado correctamente.&#34;)\\nelse:\\n    print(&#34;El archivo XLSX no existe en el directorio actual.&#34;)\\n&#39;</div>",
       "datasetInfos": [],
       "metadata": {},
       "removedWidgets": [],
       "type": "html"
      }
     },
     "output_type": "display_data"
    }
   ],
   "source": [
    "\"\"\"\n",
    "import os\n",
    "\n",
    "# Ruta completa del archivo CSV\n",
    "xlsx_file_path = \"messi_goals.xlsx\"\n",
    "\n",
    "# Verificar si el archivo existe antes de intentar borrarlo\n",
    "if os.path.exists(xlsx_file_path):\n",
    "    # Borrar el archivo CSV\n",
    "    os.remove(xlsx_file_path)\n",
    "    print(\"Archivo XLSX borrado correctamente.\")\n",
    "else:\n",
    "    print(\"El archivo XLSX no existe en el directorio actual.\")\n",
    "\"\"\""
   ]
  },
  {
   "cell_type": "code",
   "execution_count": 0,
   "metadata": {
    "application/vnd.databricks.v1+cell": {
     "cellMetadata": {
      "byteLimit": 2048000,
      "rowLimit": 10000
     },
     "inputWidgets": {},
     "nuid": "7e370d6c-f585-48f8-985f-342f2f871a6b",
     "showTitle": true,
     "title": "Dónde están los archivos"
    }
   },
   "outputs": [
    {
     "output_type": "display_data",
     "data": {
      "text/html": [
       "<style scoped>\n",
       "  .ansiout {\n",
       "    display: block;\n",
       "    unicode-bidi: embed;\n",
       "    white-space: pre-wrap;\n",
       "    word-wrap: break-word;\n",
       "    word-break: break-all;\n",
       "    font-family: \"Menlo\", \"Monaco\", \"Consolas\", \"Ubuntu Mono\", \"Source Code Pro\", monospace;\n",
       "    font-size: 13px;\n",
       "    color: #555;\n",
       "    margin-left: 4px;\n",
       "    line-height: 19px;\n",
       "  }\n",
       "</style>\n",
       "<div class=\"ansiout\">Out[4]: &#39;\\nimport os\\n\\n# Obtener el directorio actual\\ncurrent_dir = os.getcwd()\\n\\n# Listar los archivos en el directorio actual\\nfiles = os.listdir(current_dir)\\n\\n# Filtrar los archivos CSV\\ncsv_files = [file for file in files if file.endswith(&#34;.csv&#34;)]\\n\\n# Imprimir la lista de archivos CSV\\nprint(&#34;Archivos CSV en el directorio actual:&#34;)\\nfor csv_file in csv_files:\\n    print(csv_file)\\n\\n# Filtrar los archivos XLSX\\nxlsx_files = [file for file in files if file.endswith(&#34;.xlsx&#34;)]\\n\\n# Imprimir la lista de archivos XLSX\\nprint(&#34;Archivos XLSX en el directorio actual:&#34;)\\nfor xlsx_file in xlsx_files:\\n    print(xlsx_file)\\n\\nprint(&#34; &#34;)\\nprint(&#34;Directorio actual:&#34;)\\nprint(current_dir)\\n&#39;</div>"
      ]
     },
     "metadata": {
      "application/vnd.databricks.v1+output": {
       "addedWidgets": {},
       "arguments": {},
       "data": "<div class=\"ansiout\">Out[4]: &#39;\\nimport os\\n\\n# Obtener el directorio actual\\ncurrent_dir = os.getcwd()\\n\\n# Listar los archivos en el directorio actual\\nfiles = os.listdir(current_dir)\\n\\n# Filtrar los archivos CSV\\ncsv_files = [file for file in files if file.endswith(&#34;.csv&#34;)]\\n\\n# Imprimir la lista de archivos CSV\\nprint(&#34;Archivos CSV en el directorio actual:&#34;)\\nfor csv_file in csv_files:\\n    print(csv_file)\\n\\n# Filtrar los archivos XLSX\\nxlsx_files = [file for file in files if file.endswith(&#34;.xlsx&#34;)]\\n\\n# Imprimir la lista de archivos XLSX\\nprint(&#34;Archivos XLSX en el directorio actual:&#34;)\\nfor xlsx_file in xlsx_files:\\n    print(xlsx_file)\\n\\nprint(&#34; &#34;)\\nprint(&#34;Directorio actual:&#34;)\\nprint(current_dir)\\n&#39;</div>",
       "datasetInfos": [],
       "metadata": {},
       "removedWidgets": [],
       "type": "html"
      }
     },
     "output_type": "display_data"
    }
   ],
   "source": [
    "\"\"\"\n",
    "import os\n",
    "\n",
    "# Obtener el directorio actual\n",
    "current_dir = os.getcwd()\n",
    "\n",
    "# Listar los archivos en el directorio actual\n",
    "files = os.listdir(current_dir)\n",
    "\n",
    "# Filtrar los archivos CSV\n",
    "csv_files = [file for file in files if file.endswith(\".csv\")]\n",
    "\n",
    "# Imprimir la lista de archivos CSV\n",
    "print(\"Archivos CSV en el directorio actual:\")\n",
    "for csv_file in csv_files:\n",
    "    print(csv_file)\n",
    "\n",
    "# Filtrar los archivos XLSX\n",
    "xlsx_files = [file for file in files if file.endswith(\".xlsx\")]\n",
    "\n",
    "# Imprimir la lista de archivos XLSX\n",
    "print(\"Archivos XLSX en el directorio actual:\")\n",
    "for xlsx_file in xlsx_files:\n",
    "    print(xlsx_file)\n",
    "\n",
    "print(\" \")\n",
    "print(\"Directorio actual:\")\n",
    "print(current_dir)\n",
    "\"\"\""
   ]
  }
 ],
 "metadata": {
  "application/vnd.databricks.v1+notebook": {
   "dashboards": [],
   "language": "python",
   "notebookMetadata": {
    "mostRecentlyExecutedCommandWithImplicitDF": {
     "commandId": -1,
     "dataframes": [
      "_sqldf"
     ]
    },
    "pythonIndentUnit": 2
   },
   "notebookName": "ImportGoalsADB",
   "widgets": {}
  }
 },
 "nbformat": 4,
 "nbformat_minor": 0
}
